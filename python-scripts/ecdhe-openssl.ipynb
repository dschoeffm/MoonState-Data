{
 "cells": [
  {
   "cell_type": "code",
   "execution_count": null,
   "metadata": {},
   "outputs": [],
   "source": [
    "# This script tries to approximate the cost of the DTLS handshake\n",
    "\n",
    "import pandas as pd\n",
    "import matplotlib.pyplot as plt\n",
    "from mpl_toolkits.mplot3d import Axes3D\n",
    "import math\n",
    "import numpy as np\n",
    "from scipy import optimize\n",
    "import sys\n",
    "from sklearn.metrics import r2_score\n",
    "\n",
    "figsize=(4.5, 3)\n",
    "\n",
    "TUMBlue='#3070b3'\n",
    "TUMGreen='#a2ad00'\n",
    "TUMOrange='#e37222'"
   ]
  },
  {
   "cell_type": "code",
   "execution_count": null,
   "metadata": {},
   "outputs": [],
   "source": [
    "# Read the data\n",
    "ssl = pd.read_csv(\"../data-files/ecdhe-openssl.csv\")\n",
    "for _,r in ssl.iterrows():\n",
    "    r['openssl'] /= r['numConns']"
   ]
  },
  {
   "cell_type": "code",
   "execution_count": null,
   "metadata": {},
   "outputs": [],
   "source": [
    "#print(ssl['openssl'])\n",
    "\n",
    "# This function will be fitted to the data\n",
    "def fitfunc(x,t,o):\n",
    "    # This is the actual mathematical function\n",
    "    def runner(a):\n",
    "        return (t/a) + o\n",
    "    # Magic in case curve_fit hands us an array\n",
    "    if isinstance(x, np.ndarray):\n",
    "        ret = []\n",
    "        for s in x:\n",
    "            ret += [runner(s)]\n",
    "        return ret\n",
    "    else:\n",
    "        return runner(x)\n",
    "\n",
    "#params = [1.02,2**11,600]\n",
    "# Try to fit the data\n",
    "params, _ = optimize.curve_fit(fitfunc, ssl['numConns'], ssl['openssl'])\n",
    "\n",
    "print(params)\n",
    "\n",
    "fit = []\n",
    "for s in ssl['numConns']:\n",
    "    fit += [fitfunc(s,params[0],params[1])]\n",
    "    \n",
    "    \n",
    "r2 = r2_score(ssl['openssl'], fit) \n",
    "print(\"R2 score: \" + str(r2))\n",
    "    \n",
    "fig = plt.figure(figsize=figsize, dpi=300)\n",
    "\n",
    "plt.ylabel('Cycles per Connection')\n",
    "plt.xlabel('\\#Connection')\n",
    "\n",
    "plt.ylim([0,8500000])\n",
    "\n",
    "plt.plot(ssl['numConns'], ssl['openssl'], label=\"data\", color=TUMBlue)\n",
    "plt.plot(ssl['numConns'], fit, label=\"fit\", color=TUMOrange)\n",
    "plt.legend()\n",
    "plt.grid(b=True)\n",
    "#plt.savefig('../pdf-output/ecdhe-openssl.pdf',bbox_inches='tight')\n",
    "#plt.show()\n",
    "\n",
    "from matplotlib2tikz import save as tikz_save\n",
    "tikz_save('../tex-output/ecdhe-openssl.tex',\n",
    "          figureheight='3.5cm',\n",
    "          figurewidth='.9\\\\columnwidth',\n",
    "          extra_axis_parameters = {\"mark options={scale=.15}\",\n",
    "                                   \"legend pos = north east\"}\n",
    "         )"
   ]
  },
  {
   "cell_type": "code",
   "execution_count": null,
   "metadata": {},
   "outputs": [],
   "source": []
  }
 ],
 "metadata": {
  "kernelspec": {
   "display_name": "Python 3",
   "language": "python",
   "name": "python3"
  },
  "language_info": {
   "codemirror_mode": {
    "name": "ipython",
    "version": 3
   },
   "file_extension": ".py",
   "mimetype": "text/x-python",
   "name": "python",
   "nbconvert_exporter": "python",
   "pygments_lexer": "ipython3",
   "version": "3.6.4"
  }
 },
 "nbformat": 4,
 "nbformat_minor": 2
}
