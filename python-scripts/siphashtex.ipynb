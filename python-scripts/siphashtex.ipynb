{
 "cells": [
  {
   "cell_type": "code",
   "execution_count": null,
   "metadata": {},
   "outputs": [],
   "source": [
    "# This script tries to model the cost of siphash\n",
    "\n",
    "import pandas as pd\n",
    "import matplotlib.pyplot as plt\n",
    "from mpl_toolkits.mplot3d import axes3d\n",
    "import math\n",
    "from scipy import optimize\n",
    "import numpy as np\n",
    "from sklearn.metrics import r2_score\n",
    "\n",
    "figsize=(4.5, 3)\n",
    "\n",
    "TUMBlue='#3070b3'\n",
    "TUMGreen='#a2ad00'\n",
    "TUMOrange='#e37222'"
   ]
  },
  {
   "cell_type": "code",
   "execution_count": null,
   "metadata": {},
   "outputs": [],
   "source": [
    "data = pd.read_csv(\"../data-files/siphash.csv\")"
   ]
  },
  {
   "cell_type": "code",
   "execution_count": null,
   "metadata": {},
   "outputs": [],
   "source": [
    "# The siphash model\n",
    "def fitfunc(x,t,o):\n",
    "    # Actual mathematical model\n",
    "    def runner(a):\n",
    "        return (t/a) + o\n",
    "    # Magic for scipy\n",
    "    if isinstance(x, np.ndarray):\n",
    "        ret = []\n",
    "        for s in x:\n",
    "            ret += [runner(s)]\n",
    "        return ret\n",
    "    else:\n",
    "        return runner(x)\n",
    "\n",
    "#params = [1.02,2**11,600]\n",
    "# Fit the data\n",
    "params, _ = optimize.curve_fit(fitfunc, data['size'], data['cycles'])\n",
    "\n",
    "print(params)\n",
    "\n",
    "# Plot the data\n",
    "fit = []\n",
    "for s in data['size']:\n",
    "    fit += [fitfunc(s,params[0],params[1])]\n",
    "\n",
    "r2 = r2_score(data['cycles'], fit) \n",
    "print(\"R2 score: \" + str(r2))\n",
    "    \n",
    "fig = plt.figure(figsize=figsize, dpi=300)\n",
    "\n",
    "plt.plot(data['size'], fit, color=TUMOrange, label=\"fit\", zorder=2)\n",
    "plt.scatter(data['size'], data['cycles'], 5, label=\"data\", color=TUMBlue, zorder=1)\n",
    "\n",
    "plt.ylim([1,2**10])\n",
    "#plt.semilogx(basex=2)\n",
    "plt.loglog(basex=2, basey=2)\n",
    "plt.grid(b=True)\n",
    "plt.xlabel('\\#bbox_to_anchor=(1, 1)Operations')\n",
    "plt.ylabel('Cycles per Op')\n",
    "plt.legend()\n",
    "#fig.savefig('output/synth-siphash.pdf',bbox_inches='tight')\n",
    "#plt.show()\n",
    "\n",
    "from matplotlib2tikz import save as tikz_save\n",
    "tikz_save('../tex-output/siphash.tex',\n",
    "          figureheight='3.5cm',\n",
    "          figurewidth='.9\\\\columnwidth',\n",
    "          extra_axis_parameters = {\"log basis x=2\",\n",
    "                                   \"mark options={scale=.15}\",\n",
    "                                   \"legend pos = south east\"}\n",
    "         )"
   ]
  },
  {
   "cell_type": "code",
   "execution_count": null,
   "metadata": {},
   "outputs": [],
   "source": []
  }
 ],
 "metadata": {
  "kernelspec": {
   "display_name": "Python 3",
   "language": "python",
   "name": "python3"
  },
  "language_info": {
   "codemirror_mode": {
    "name": "ipython",
    "version": 3
   },
   "file_extension": ".py",
   "mimetype": "text/x-python",
   "name": "python",
   "nbconvert_exporter": "python",
   "pygments_lexer": "ipython3",
   "version": "3.6.4"
  }
 },
 "nbformat": 4,
 "nbformat_minor": 2
}
